{
 "cells": [
  {
   "cell_type": "code",
   "execution_count": null,
   "id": "6ecaa471-188a-4440-bc1a-fe4ff1b76e55",
   "metadata": {},
   "outputs": [],
   "source": [
    "import numpy as np\n",
    "import pandas as pd\n",
    "import seaborn as sns\n",
    "import matplotlib.pyplot as plt\n",
    "%matplotlib inline\n",
    "\n",
    " # 경고 메시지를 제어하는 모듈\n",
    "import warnings \n",
    "warnings.filterwarnings(\"ignore\", category=RuntimeWarning) # RuntimeWarning 경고 메시지를 무시하도록 설정\n",
    "\n",
    "bike_df = pd.read_csv('./bike_train.csv')\n",
    "print(bike_df.shape)\n",
    "bike_df.head()"
   ]
  },
  {
   "cell_type": "code",
   "execution_count": null,
   "id": "a441c07e-70fa-4252-8d65-d0f29501a2d4",
   "metadata": {},
   "outputs": [],
   "source": [
    "bike_df.info()"
   ]
  },
  {
   "cell_type": "code",
   "execution_count": null,
   "id": "7f6071f9-daa6-4d2a-8e49-31bc812407ac",
   "metadata": {},
   "outputs": [],
   "source": [
    "# 문자열을 datetime 타입으로 변경 (예제의 데이터 세트의 datetime칼럼명과 동일, 둘이 혼동 주의)\n",
    "# 문자열을 datetime 타입으로 변환하는 apply(pd.to_datetime)\n",
    "bike_df['datetime']=bike_df.datetime.apply(pd.to_datetime)\n",
    "\n",
    "# datetime 타입에서 년, 월, 일, 시간 추출\n",
    "bike_df['year'] = bike_df.datetime.apply(lambda x: x.year)\n",
    "bike_df['month'] = bike_df.datetime.apply(lambda x: x.month)\n",
    "bike_df['day'] = bike_df.datetime.apply(lambda x: x.day)\n",
    "bike_df['hour'] = bike_df.datetime.apply(lambda x: x.hour)\n",
    "bike_df.head(3)"
   ]
  },
  {
   "cell_type": "code",
   "execution_count": null,
   "id": "d96c07b6-99e9-4968-ab8a-2ac1acb12373",
   "metadata": {},
   "outputs": [],
   "source": [
    "# casual= 사전에 등록X 대여 횟수, registered= 사전에 등록0 대여 횟수, casual+registered=count\n",
    "# casual,registered 따로 필요X 오히려 상관도 높아 예측 저해 우려\n",
    "drop_columns = ['datetime', 'casual', 'registered']\n",
    "bike_df.drop(drop_columns, axis=1, inplace=True) # axis=1 열 방향, inplace=True 데이터프레임 직접 변경하여 새로 반환하지X"
   ]
  },
  {
   "cell_type": "code",
   "execution_count": null,
   "id": "15dd05bc-2e4d-43f6-8c05-1d5561e8e13f",
   "metadata": {},
   "outputs": [],
   "source": [
    "fig, axs=plt.subplots(figsize=(16,8), ncols=4, nrows=2)\n",
    "cat_features = ['year','month','season','weather','day','hour','holiday','workingday']\n",
    "\n",
    "# cat_features에 있는 모든 칼럼별로 개별 칼럼값에 따른 count의 합을 barplot으로 시각화\n",
    "for i, feature in enumerate(cat_features) :\n",
    "    row = int(i/4)\n",
    "    col = i%4\n",
    "    # 사본의 barplot을 이용해 칼럼값에 따른 count의 합을 표현\n",
    "    sns.barplot(x=feature, y='count', data=bike_df, ax=axs[row][col])\n",
    "\n",
    "# season 봄(1), 여름(2), 가을(3), 겨울(4)\n",
    "# holiday 1=토,일의 주말을 제외한 국경일 등의 휴일, 0=휴일이 아닌 날\n",
    "# workingday 1=토,일 주말 및 휴일이 아닌 주중, 0=주말 및 휴일\n",
    "# weather 1(맑음,약간 구름 낀 흐림), 2(안개,안개+흐림), 3(가벼운 눈, 가벼운 비+천둥), 4(심한 눈/비, 천둥/번개)"
   ]
  },
  {
   "cell_type": "code",
   "execution_count": null,
   "id": "776168ed-fb8a-436a-aae9-311a741ba45a",
   "metadata": {},
   "outputs": [],
   "source": [
    "# RMSLE, MSE, RMSE 수행 함수 만들기\n",
    "\n",
    "from sklearn.metrics import mean_squared_error, mean_absolute_error\n",
    "\n",
    "# log값 변환 시 NaN등의 이슈로 log()가 아닌 log1p()를 이용해 RMSLE계산\n",
    "def rmsle(y,pred):\n",
    "    log_y = np.log1p(y)\n",
    "    log_pred = np.log1p(pred)\n",
    "    squared_error = (log_y - log_pred)**2\n",
    "    rmsle = np.sqrt(np.mean(squared_error))\n",
    "    return rmsle\n",
    "\n",
    "# 사이킷런의 mean_square_error()를 이용해 RMSE 계산\n",
    "def rmse(y,pred):\n",
    "    return np.sqrt(mean_squared_error(y,pred))\n",
    "\n",
    "# MSE, RMSE, RMSLE를 모두 계산\n",
    "def evaluate_regr(y,pred):\n",
    "    rmsle_val = rmsle(y,pred)\n",
    "    rmse_val = rmse(y,pred)\n",
    "    # MAE는 사이킷런의 mean_absolute_error()로 계산\n",
    "    mae_val = mean_absolute_error(y,pred)\n",
    "    print('RMSLE; {0:.3f}, RMSE: {1:.3F}, MAE: {2:.3F}'.format(rmsle_val, rmse_val, mae_val))"
   ]
  },
  {
   "cell_type": "code",
   "execution_count": null,
   "id": "5d6d5836-b1df-4b8b-b840-eb693901d71c",
   "metadata": {},
   "outputs": [],
   "source": [
    "# LinearRegression 객체를 이용한 회귀 예측\n",
    "\n",
    "from sklearn.model_selection import train_test_split, GridSearchCV\n",
    "from sklearn.linear_model import LinearRegression,Ridge,Lasso\n",
    "\n",
    "y_target = bike_df['count']\n",
    "X_features = bike_df.drop(['count'],axis=1,inplace=False)\n",
    "\n",
    "X_train, X_test, y_train, y_test = train_test_split(X_features, y_target, test_size=0.3, random_state=0)\n",
    "\n",
    "lr_reg = LinearRegression()\n",
    "lr_reg.fit(X_train, y_train)\n",
    "pred = lr_reg.predict(X_test)\n",
    "\n",
    "evaluate_regr(y_test,pred)"
   ]
  },
  {
   "cell_type": "code",
   "execution_count": null,
   "id": "b048305d-9775-4998-8d92-0da1cac30baf",
   "metadata": {},
   "outputs": [],
   "source": [
    "# 실제값과 예측값 차이 확인\n",
    "def get_top_error_data(y_test,pred,n_tops=5):\n",
    "    # DataFrame의 칼럼으로 실제 대여 횟수(count)와 예측값을 서로 비교할 수 있도록 생성\n",
    "    result_df = pd.DataFrame(y_test.values, columns=['real_count'])\n",
    "    result_df['predicted_count']=np.round(pred)\n",
    "    result_df['diff'] = np.abs(result_df['real_count'] - result_df['predicted_count'])\n",
    "\n",
    "# 예측값과 실제값이 가장 큰 데이터 순으로 출력\n",
    "    print(result_df.sort_values('diff',ascending=False)[:n_tops])\n",
    "\n",
    "get_top_error_data(y_test, pred, n_tops=5)"
   ]
  },
  {
   "cell_type": "code",
   "execution_count": null,
   "id": "09335266-53fa-4351-b7f1-7e02c20feb7d",
   "metadata": {},
   "outputs": [],
   "source": [
    "# Target값인 count 칼럼이 정규분포를 이루는지 확인\n",
    "y_target.hist()"
   ]
  },
  {
   "cell_type": "code",
   "execution_count": null,
   "id": "9c078adf-ebe1-4b18-be44-6e5a641a7294",
   "metadata": {},
   "outputs": [],
   "source": [
    "# log1p()이용해 정규 분포 형태로 변환\n",
    "y_log_transform = np.log1p(y_target)\n",
    "y_log_transform.hist()"
   ]
  },
  {
   "cell_type": "code",
   "execution_count": null,
   "id": "160bd372-501f-4011-ab12-6c2b00ff0ca3",
   "metadata": {},
   "outputs": [],
   "source": [
    "# 타깃 칼럼인 count 값을 log1p로 로그 변환\n",
    "y_target_log = np.log1p(y_target)\n",
    "\n",
    "# 로그 변환된 y_target_log를 반영해 학습/테스트 데이터 세트 분할\n",
    "X_train, X_test, y_train, y_test = train_test_split(X_features, y_target_log, test_size=0.3, random_state=0)\n",
    "\n",
    "lr_reg = LinearRegression()\n",
    "lr_reg.fit(X_train, y_train)\n",
    "pred = lr_reg.predict(X_test)\n",
    "\n",
    "# 테스트 데이터 세트의 Target값은 로그 변환됐으므로 다시 expm1을 이용해 원래 스케일로 변환\n",
    "y_test_exp = np.expm1(y_test)\n",
    "\n",
    "# 예측값 역시 로그 변환된 타깃 기반으로 학습돼 예측됐으므로 다시 expm1로 스케일 변환\n",
    "pred_exp = np.expm1(pred)\n",
    "\n",
    "evaluate_regr(y_test_exp, pred_exp)"
   ]
  },
  {
   "cell_type": "code",
   "execution_count": null,
   "id": "f0bbe1be-b317-45c6-b013-d130643c2bbb",
   "metadata": {},
   "outputs": [],
   "source": [
    "# 개별 피처들 인코팅\n",
    "# 각 피처의 회귀 계숫값 시각화\n",
    "coef = pd.Series(lr_reg.coef_, index=X_features.columns)\n",
    "coef_sort = coef.sort_values(ascending=False)\n",
    "sns.barplot(x=coef_sort.values, y=coef_sort.index)"
   ]
  },
  {
   "cell_type": "code",
   "execution_count": null,
   "id": "28ca8444-5905-4083-b823-950680b3a3e6",
   "metadata": {},
   "outputs": [],
   "source": [
    "# 카테고리 값을 선형 회귀에 사용할 경우 회귀 계수를 연산할 때 이 숫자형 값에 크게 영향을 받음\n",
    "\n",
    "# 'year', 'month', 'day', 'hour'등의 피처들을 One Hot Encoding\n",
    "X_features_ohe = pd.get_dummies(X_features, columns=['year','month','day','hour','holiday','workingday','season','weather'])"
   ]
  },
  {
   "cell_type": "code",
   "execution_count": null,
   "id": "d518b0b8-0b7d-49f9-acdb-ea261c4bd069",
   "metadata": {},
   "outputs": [],
   "source": [
    "# 원-핫 인코딩이 적용된 피처 데이터 세트 기반으로 학습/예측 데이터 분할.\n",
    "X_train, X_test, y_train, y_test = train_test_split(X_features_ohe, y_target_log, test_size=0.3, random_state=0)\n",
    "\n",
    "# 모델과 학습/테스트 데이터 세트를 입력하면 성능 평가 수치를 반환\n",
    "def get_model_predict(model, X_train, X_test, y_train, y_test, is_expm1=False):\n",
    "    model.fit(X_train, y_train) # 모델을 학습 데이터로 학습\n",
    "    pred=model.predict(X_test) # 테스트 데이터로 예측 수행\n",
    "    if is_expm1:  # log 변환을 되돌릴 필요가 있는 경우\n",
    "        y_test = np.expm1(y_test) # y_test를 로그 변환 되돌림\n",
    "        pred = np.expm1(pred) # 예측 결과도 로그 변환 되돌림\n",
    "    print('###',model.__class__.__name__,'###')\n",
    "    evaluate_regr(y_test, pred) # 모델의 성능 평가 수행\n",
    "# end of function get_model_predict\n",
    "\n",
    "# 모델별로 평가 수행\n",
    "lr_reg = LinearRegression() # 선형 회귀 모델\n",
    "ridge_reg = Ridge(alpha=10) # 릿지 회귀 모델 (정규화 강도 alpha=10)\n",
    "lasso_reg = Lasso(alpha=0.01) # 라쏘 회귀 모델 (정규화 강도 alpha=0.01)\n",
    "\n",
    "# 각 모델별로 성능 평가 수행\n",
    "for model in [lr_reg, ridge_reg, lasso_reg]:\n",
    "    get_model_predict(model,X_train,X_test,y_train,y_test,is_expm1=True)"
   ]
  },
  {
   "cell_type": "code",
   "execution_count": null,
   "id": "59dd6fb0-f16d-4616-b02b-9ccd0bcdd5ba",
   "metadata": {},
   "outputs": [],
   "source": [
    "# 회귀 계수 상위 20개 피처 추출\n",
    "coef = pd.Series(lr_reg.coef_, index=X_features_ohe.columns)\n",
    "coef_sort = coef.sort_values(ascending=False)[:20]\n",
    "sns.barplot(x=coef_sort.values , y=coef_sort.index)"
   ]
  },
  {
   "cell_type": "code",
   "execution_count": null,
   "id": "8240f062-ec96-4217-9a2e-211c0c2ba589",
   "metadata": {},
   "outputs": [],
   "source": [
    "# 회귀 트리를 이용해 회귀 예측 수행\n",
    "from sklearn.ensemble import RandomForestRegressor, GradientBoostingRegressor\n",
    "from xgboost import XGBRegressor\n",
    "from lightgbm import LGBMRegressor\n",
    "\n",
    "# 랜덤 포레스트, GBM, XGBoost, LightGBM model별로 평가 수행\n",
    "rf_reg = RandomForestRegressor(n_estimators=500)\n",
    "gbm_reg = GradientBoostingRegressor(n_estimators=500)\n",
    "xgb_reg = XGBRegressor(n_estimators=500)\n",
    "lgbm_reg = LGBMRegressor(n_estimators=500)\n",
    "\n",
    "for model in [rf_reg, gbm_reg, xgb_reg, lgbm_reg]:\n",
    "    # XGBoost의 경우 DataFrame이 입력될 경우 버전에 따라 오류 발생 가능. ndarray로 변환.\n",
    "    get_model_predict(model,X_train.values, X_test.values, y_train.values, y_test.values, is_expm1=True)"
   ]
  }
 ],
 "metadata": {
  "kernelspec": {
   "display_name": "Python 3 (ipykernel)",
   "language": "python",
   "name": "python3"
  },
  "language_info": {
   "codemirror_mode": {
    "name": "ipython",
    "version": 3
   },
   "file_extension": ".py",
   "mimetype": "text/x-python",
   "name": "python",
   "nbconvert_exporter": "python",
   "pygments_lexer": "ipython3",
   "version": "3.12.3"
  }
 },
 "nbformat": 4,
 "nbformat_minor": 5
}
